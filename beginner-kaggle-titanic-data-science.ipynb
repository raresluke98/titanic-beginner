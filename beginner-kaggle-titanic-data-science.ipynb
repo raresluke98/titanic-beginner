{
 "cells": [
  {
   "cell_type": "markdown",
   "id": "f96aa888",
   "metadata": {},
   "source": [
    "# Beginner Kaggle Data Science Project Walk-Through (Titanic)\n",
    "    \n",
    "This is a simple data science tutorial found on youtube\n",
    "<ul>\n",
    "    <li>Source: <a href=\"https://www.youtube.com/watch?v=I3FBJdiExcg\">Youtube link</a></li>\n",
    "    <li>Title: Beginner Kaggle Data Science Project Walk-Through (Titanic)</li>\n",
    "    <li>Author: Ken Jee</li>\n",
    "<ul>"
   ]
  },
  {
   "cell_type": "markdown",
   "id": "ff3e858d",
   "metadata": {},
   "source": [
    "## Overview\n",
    "<ol>\n",
    "    <li>Imports and data files</li>\n",
    "    <li>Project planning</li>\n",
    "    <li>Light data exploration</li>\n",
    "</ol>"
   ]
  },
  {
   "cell_type": "code",
   "execution_count": 8,
   "id": "101f6ffb",
   "metadata": {
    "collapsed": true
   },
   "outputs": [
    {
     "name": "stdout",
     "output_type": "stream",
     "text": [
      "Collecting seaborn\n",
      "  Downloading seaborn-0.11.1-py3-none-any.whl (285 kB)\n",
      "\u001b[K     |████████████████████████████████| 285 kB 1.3 MB/s eta 0:00:01\n",
      "\u001b[?25hRequirement already satisfied: pandas>=0.23 in /home/rares/.local/lib/python3.8/site-packages (from seaborn) (1.2.4)\n",
      "Collecting scipy>=1.0\n",
      "  Downloading scipy-1.6.3-cp38-cp38-manylinux1_x86_64.whl (27.2 MB)\n",
      "\u001b[K     |████████████████████████████████| 27.2 MB 19 kB/s s eta 0:00:01   |██████████▎                     | 8.7 MB 7.4 MB/s eta 0:00:03     |██████████▉                     | 9.3 MB 7.4 MB/s eta 0:00:03\n",
      "\u001b[?25hRequirement already satisfied: numpy>=1.15 in /home/rares/.local/lib/python3.8/site-packages (from seaborn) (1.20.3)\n",
      "Requirement already satisfied: matplotlib>=2.2 in /home/rares/.local/lib/python3.8/site-packages (from seaborn) (3.4.2)\n",
      "Requirement already satisfied: pytz>=2017.3 in /usr/lib/python3/dist-packages (from pandas>=0.23->seaborn) (2019.3)\n",
      "Requirement already satisfied: python-dateutil>=2.7.3 in /usr/lib/python3/dist-packages (from pandas>=0.23->seaborn) (2.7.3)\n",
      "Requirement already satisfied: kiwisolver>=1.0.1 in /home/rares/.local/lib/python3.8/site-packages (from matplotlib>=2.2->seaborn) (1.3.1)\n",
      "Requirement already satisfied: pillow>=6.2.0 in /usr/lib/python3/dist-packages (from matplotlib>=2.2->seaborn) (7.0.0)\n",
      "Requirement already satisfied: cycler>=0.10 in /home/rares/.local/lib/python3.8/site-packages (from matplotlib>=2.2->seaborn) (0.10.0)\n",
      "Requirement already satisfied: pyparsing>=2.2.1 in /home/rares/.local/lib/python3.8/site-packages (from matplotlib>=2.2->seaborn) (2.4.7)\n",
      "Requirement already satisfied: six in /usr/lib/python3/dist-packages (from cycler>=0.10->matplotlib>=2.2->seaborn) (1.14.0)\n",
      "Installing collected packages: scipy, seaborn\n",
      "Successfully installed scipy-1.6.3 seaborn-0.11.1\n",
      "Note: you may need to restart the kernel to use updated packages.\n"
     ]
    }
   ],
   "source": [
    "# !pip install pandas\n",
    "# !pip install seaborn\n"
   ]
  },
  {
   "cell_type": "code",
   "execution_count": 10,
   "id": "f7e8e8a3",
   "metadata": {},
   "outputs": [
    {
     "name": "stdout",
     "output_type": "stream",
     "text": [
      "/home/rares/Documents/jupyter-notebooks/titanic-data/test.csv\n",
      "/home/rares/Documents/jupyter-notebooks/titanic-data/train.csv\n",
      "/home/rares/Documents/jupyter-notebooks/titanic-data/gender_submission.csv\n"
     ]
    }
   ],
   "source": [
    "# 1.Imports\n",
    "\n",
    "import numpy as np\n",
    "import pandas as pd\n",
    "import seaborn as sns\n",
    "import matplotlib.pyplot as plt\n",
    "\n",
    "import os\n",
    "for dirname, _, filenames in os.walk('/home/rares/Documents/jupyter-notebooks/titanic-data'):\n",
    "    for filename in filenames:\n",
    "        print(os.path.join(dirname, filename))"
   ]
  },
  {
   "cell_type": "code",
   "execution_count": 17,
   "id": "832fc962",
   "metadata": {},
   "outputs": [
    {
     "data": {
      "text/plain": [
       "Index(['PassengerId', 'Survived', 'Pclass', 'Name', 'Sex', 'Age', 'SibSp',\n",
       "       'Parch', 'Ticket', 'Fare', 'Cabin', 'Embarked', 'train_test'],\n",
       "      dtype='object')"
      ]
     },
     "execution_count": 17,
     "metadata": {},
     "output_type": "execute_result"
    }
   ],
   "source": [
    "# data loading\n",
    "training = pd.read_csv('/home/rares/Documents/jupyter-notebooks/titanic-data/train.csv')\n",
    "test = pd.read_csv('/home/rares/Documents/jupyter-notebooks/titanic-data/test.csv')\n",
    "\n",
    "training['train_test'] = 1\n",
    "test['train_test'] = 0\n",
    "test['Survived'] = np.NaN\n",
    "all_data = pd.concat([training, test])\n",
    "\n",
    "%matplotlib inline\n",
    "all_data.columns"
   ]
  },
  {
   "cell_type": "code",
   "execution_count": 12,
   "id": "f0be3601",
   "metadata": {
    "collapsed": true
   },
   "outputs": [
    {
     "data": {
      "text/plain": [
       "\"\\n    Understand nature of data\\n    Histograms and boxplots\\n    Value counts (can't do histograms for categorical varaibles)\\n    Missing data\\n    Correlation between the metrics\\n    Explore interesting themes:\\n        Wealthy survive?\\n        By location\\n        Age scatterplot with ticket price\\n        Young and wealthy variable?\\n        Total spent?\\n    Feature engineering\\n    Preprocess data toghether or use a transformer?\\n        Use label for train and test\\n    Scaling?\\n    \\n    Model baseline\\n    Model comparison with CV\\n\""
      ]
     },
     "execution_count": 12,
     "metadata": {},
     "output_type": "execute_result"
    }
   ],
   "source": [
    "# 2. Project planning\n",
    "'''\n",
    "    Understand nature of data\n",
    "    Histograms and boxplots\n",
    "    Value counts (can't do histograms for categorical varaibles)\n",
    "    Missing data\n",
    "    Correlation between the metrics\n",
    "    Explore interesting themes:\n",
    "        Wealthy survive?\n",
    "        By location\n",
    "        Age scatterplot with ticket price\n",
    "        Young and wealthy variable?\n",
    "        Total spent?\n",
    "    Feature engineering (= make some new variables, best score \n",
    "        jumps come w/ better data)\n",
    "    Preprocess data toghether or use a transformer?\n",
    "        Use label for train and test\n",
    "    Scaling?\n",
    "    \n",
    "    Model baseline\n",
    "    Model comparison with CV\n",
    "'''"
   ]
  },
  {
   "cell_type": "code",
   "execution_count": null,
   "id": "fae7c32c",
   "metadata": {},
   "outputs": [],
   "source": [
    "# 3. Light data exploration\n",
    "# \n",
    "# For numeric data:      histograms to understand distributions\n",
    "#                        corrplot\n",
    "#                        pivot table comparing survival rate \n",
    "# \n",
    "# For categorical data:  bar charts to understand balance of classes\n",
    "#                        pivot tables to understand relationship w/ \n",
    "#                        survival\n",
    "\n",
    "training.info\n"
   ]
  }
 ],
 "metadata": {
  "kernelspec": {
   "display_name": "Python 3",
   "language": "python",
   "name": "python3"
  },
  "language_info": {
   "codemirror_mode": {
    "name": "ipython",
    "version": 3
   },
   "file_extension": ".py",
   "mimetype": "text/x-python",
   "name": "python",
   "nbconvert_exporter": "python",
   "pygments_lexer": "ipython3",
   "version": "3.8.5"
  }
 },
 "nbformat": 4,
 "nbformat_minor": 5
}
